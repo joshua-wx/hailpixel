{
 "cells": [
  {
   "cell_type": "code",
   "execution_count": 20,
   "metadata": {},
   "outputs": [],
   "source": [
    "#list all json files\n",
    "#read json files\n",
    "#remove points in buffer region\n",
    "#count points"
   ]
  },
  {
   "cell_type": "code",
   "execution_count": 22,
   "metadata": {},
   "outputs": [],
   "source": [
    "import json\n",
    "import os\n",
    "import glob\n",
    "import pandas as pd\n",
    "from matplotlib import pyplot as plt\n",
    "import numpy as np"
   ]
  },
  {
   "cell_type": "code",
   "execution_count": 12,
   "metadata": {},
   "outputs": [],
   "source": [
    "json_path = '/g/data1a/kl02/jss548/hail-research/HailPixel/subsets/roi'\n",
    "ref_ffn   = '/g/data1a/kl02/jss548/hail-research/HailPixel/subsets/index.csv'"
   ]
  },
  {
   "cell_type": "code",
   "execution_count": 9,
   "metadata": {},
   "outputs": [],
   "source": [
    "#read reference file\n",
    "df = pd.read_csv(ref_ffn, header=0)\n",
    "ref_dict = df.to_dict(orient='list')"
   ]
  },
  {
   "cell_type": "code",
   "execution_count": 18,
   "metadata": {},
   "outputs": [
    {
     "name": "stdout",
     "output_type": "stream",
     "text": [
      "final hail count: 46871\n",
      "final hail skipped: 32089\n"
     ]
    }
   ],
   "source": [
    "hail_count   = 0\n",
    "hail_skipped = 0\n",
    "buffer_px    = 50\n",
    "hail_x       = []\n",
    "hail_y       = []\n",
    "\n",
    "json_ffn_list = glob.glob(json_path + '/*.json')\n",
    "\n",
    "for json_ffn in json_ffn_list:\n",
    "    #print('reading:', json_ffn)\n",
    "    #read json file \n",
    "    with open(json_ffn) as json_fh:  \n",
    "        data = json.load(json_fh)\n",
    "    #extract json header name\n",
    "    json_header = next(iter(data))\n",
    "    #extract list of regions\n",
    "    point_list = data[json_header]['regions']\n",
    "    #find reference x0 and y0 points\n",
    "    subset_idx = int(os.path.basename(json_ffn)[0:4])\n",
    "    ref_idx    = ref_dict['idx'].index(subset_idx)\n",
    "    x0 = ref_dict['x0'][ref_idx]\n",
    "    y0 = ref_dict['y0'][ref_idx]\n",
    "    #for every region\n",
    "    for point in point_list:\n",
    "        #extract points\n",
    "        cx = point['shape_attributes']['cx']\n",
    "        cy = point['shape_attributes']['cy']\n",
    "        #check if in padded regions\n",
    "        if cx < 50 or cx > 500 or cy < 50 or cy > 500:\n",
    "            hail_skipped += 1\n",
    "            continue\n",
    "        else:\n",
    "            #add to lists\n",
    "            hail_count += 1\n",
    "            hail_x.append(x0+cx)\n",
    "            hail_y.append(y0+cy)\n",
    "    \n",
    "print('final hail count:', hail_count)\n",
    "print('final hail skipped:', hail_skipped)\n",
    "\n",
    "    \n"
   ]
  },
  {
   "cell_type": "code",
   "execution_count": 23,
   "metadata": {},
   "outputs": [],
   "source": [
    "hail_x_m = np.array(hail_x) * 0.0025\n",
    "hail_y_m = np.array(hail_y) * 0.0025"
   ]
  },
  {
   "cell_type": "code",
   "execution_count": 26,
   "metadata": {},
   "outputs": [
    {
     "name": "stdout",
     "output_type": "stream",
     "text": [
      "0.3625 62.472500000000004\n",
      "0.315 40.905\n"
     ]
    }
   ],
   "source": [
    "print(min(hail_x_m), max(hail_x_m))\n",
    "print(min(hail_y_m), max(hail_y_m))"
   ]
  },
  {
   "cell_type": "code",
   "execution_count": 46,
   "metadata": {},
   "outputs": [
    {
     "data": {
      "image/png": "[encoded data removed]",
      "text/plain": [
       "<Figure size 864x432 with 2 Axes>"
      ]
     },
     "metadata": {},
     "output_type": "display_data"
    }
   ],
   "source": [
    "xbins = np.arange(0, 62.5, 1) \n",
    "ybins = np.arange(0, 41, 1)\n",
    "\n",
    "#compute 2d hist matrix\n",
    "counts, _, _ = np.histogram2d(hail_x_m, hail_y_m, bins=(xbins, ybins))\n",
    "\n",
    "#plot 2d hist matrix \n",
    "fig = plt.figure(facecolor='white',figsize=[12,6])\n",
    "ax = plt.subplot(1, 1, 1)\n",
    "im = ax.pcolormesh(xbins, ybins, np.fliplr(counts.T), cmap='hot_r') #pcolormesh expect Y,X axes order\n",
    "\n",
    "cbar = fig.colorbar(im, ax=ax)\n",
    "cbar.set_label('Number of hail stones detected')"
   ]
  },
  {
   "cell_type": "code",
   "execution_count": null,
   "metadata": {},
   "outputs": [],
   "source": []
  }
 ],
 "metadata": {
  "kernelspec": {
   "display_name": "Python 3",
   "language": "python",
   "name": "python3"
  },
  "language_info": {
   "codemirror_mode": {
    "name": "ipython",
    "version": 3
   },
   "file_extension": ".py",
   "mimetype": "text/x-python",
   "name": "python",
   "nbconvert_exporter": "python",
   "pygments_lexer": "ipython3",
   "version": "3.6.7"
  }
 },
 "nbformat": 4,
 "nbformat_minor": 2
}
